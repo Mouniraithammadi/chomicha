{
  "nbformat": 4,
  "nbformat_minor": 0,
  "metadata": {
    "colab": {
      "provenance": []
    },
    "kernelspec": {
      "name": "python3",
      "display_name": "Python 3"
    },
    "language_info": {
      "name": "python"
    }
  },
  "cells": [
    {
      "cell_type": "code",
      "source": [
        "# if you have this file already , please put the path of it in the drive\n",
        "!cp  /content/drive/MyDrive/abdo/chomicha_wajabatUrl.json wajabatUrl.json\n",
        "!cp  /content/drive/MyDrive/abdo/chomicha_cat.json cat.json"
      ],
      "metadata": {
        "id": "X_kiUgZI6x3U"
      },
      "execution_count": 5,
      "outputs": []
    },
    {
      "cell_type": "code",
      "source": [
        "import requests\n",
        "import bs4\n",
        "\n",
        "\n",
        "ToArray = lambda name , rng : [f\"https://www.choumicha.ma/c/{name.replace('.html', f'')}/Page-{str(index + 1)}.html\" for index in range(rng)]\n",
        "urls = []\n",
        "def checkD(text: str) -> bool:\n",
        "\n",
        "    for chr in text:\n",
        "        if chr.isdigit():\n",
        "            return True\n",
        "    return False\n",
        "\n",
        "\n",
        "def getN(text: str) -> int:\n",
        "    text = text.split(\"/\")[-1].replace(\".html\", \"\")\n",
        "    n = 0\n",
        "    ten = 1\n",
        "    for chr in text:\n",
        "        if chr.isdigit():\n",
        "            n = 10 * n + int(chr)\n",
        "    return n\n",
        "\n",
        "\n",
        "def getFin(url: str)-> int :\n",
        "    html = requests.get(url)\n",
        "    soup = bs4.BeautifulSoup(html.text, \"html.parser\")\n",
        "    ul = soup.find(class_=\"pagination-end\")\n",
        "    if ul is None:\n",
        "        return None\n",
        "    return  getN(ul.find(\"a\").get(\"href\"))\n",
        "\n",
        "\n",
        "def getBaseUrls():\n",
        "    html = requests.get(\"https://www.choumicha.ma/c/gateaux-marocains/Page-5.html\")\n",
        "    soup = bs4.BeautifulSoup(html.text, \"html.parser\")\n",
        "    ul = soup.find(class_=\"level1\")\n",
        "    global  urls\n",
        "    li = ul.findAll(\"li\")\n",
        "    for i in li:\n",
        "        u = str(i.find(\"a\").get(\"href\")).split(\"/\")[-1].replace(\".html\" , \"\")\n",
        "        if checkD(u):\n",
        "            urls.append(f'https://www.choumicha.ma{i.find(\"a\").get(\"href\")}')\n",
        "        else:\n",
        "            numberOfWajabat = getFin(f'https://www.choumicha.ma{i.find(\"a\").get(\"href\")}')\n",
        "            if numberOfWajabat is None:\n",
        "              urls.append(i.find(\"a\").get(\"href\"))\n",
        "              continue\n",
        "            urls += ToArray(u,numberOfWajabat)"
      ],
      "metadata": {
        "id": "3-VxmED7MubD"
      },
      "execution_count": null,
      "outputs": []
    },
    {
      "cell_type": "code",
      "source": [
        "getBaseUrls()"
      ],
      "metadata": {
        "id": "DQz-g3cdM7RD"
      },
      "execution_count": null,
      "outputs": []
    },
    {
      "cell_type": "code",
      "source": [
        "len(urls)"
      ],
      "metadata": {
        "colab": {
          "base_uri": "https://localhost:8080/"
        },
        "id": "pnrHXZrXPwdt",
        "outputId": "47e10738-7f1e-4dd2-9122-cf27334514e1"
      },
      "execution_count": null,
      "outputs": [
        {
          "output_type": "execute_result",
          "data": {
            "text/plain": [
              "362"
            ]
          },
          "metadata": {},
          "execution_count": 17
        }
      ]
    },
    {
      "cell_type": "code",
      "source": [
        "for i in range(len(urls)):\n",
        "  if \"https\"  not in urls[i]:\n",
        "    urls[i] = f'https://www.choumicha.ma{urls[i]}'\n"
      ],
      "metadata": {
        "id": "673-K51UYk7A"
      },
      "execution_count": null,
      "outputs": []
    },
    {
      "cell_type": "code",
      "source": [
        "urls"
      ],
      "metadata": {
        "colab": {
          "base_uri": "https://localhost:8080/"
        },
        "id": "zw7UELJfkstM",
        "outputId": "ee7ed526-9c5b-4355-8c2e-4b4e928b1f88"
      },
      "execution_count": null,
      "outputs": [
        {
          "output_type": "execute_result",
          "data": {
            "text/plain": [
              "[]"
            ]
          },
          "metadata": {},
          "execution_count": 2
        }
      ]
    },
    {
      "cell_type": "code",
      "source": [
        "import json\n",
        "with open(\"cat.json\" , \"w\") as f:\n",
        "  json.dump(urls, f)"
      ],
      "metadata": {
        "id": "29JhHYJllqOM"
      },
      "execution_count": null,
      "outputs": []
    },
    {
      "cell_type": "code",
      "source": [
        "!cp cat.json /content/drive/MyDrive/abdo/chomicha_cat.json"
      ],
      "metadata": {
        "id": "kRrwKEz36nDd"
      },
      "execution_count": null,
      "outputs": []
    },
    {
      "cell_type": "code",
      "source": [
        "with open(\"cat.json\" , \"r\") as f:\n",
        "  URLS = json.load(f)"
      ],
      "metadata": {
        "id": "ztdqfKWGmfkp"
      },
      "execution_count": null,
      "outputs": []
    },
    {
      "cell_type": "code",
      "source": [
        "len(URLS)"
      ],
      "metadata": {
        "colab": {
          "base_uri": "https://localhost:8080/"
        },
        "id": "-G-eqiZkmuKR",
        "outputId": "60d1cfc6-a541-4bff-ed23-dcd3ca58ad14"
      },
      "execution_count": null,
      "outputs": [
        {
          "output_type": "execute_result",
          "data": {
            "text/plain": [
              "362"
            ]
          },
          "metadata": {},
          "execution_count": 25
        }
      ]
    },
    {
      "cell_type": "code",
      "source": [
        "import requests\n",
        "import bs4\n",
        "urlBase = \"https://www.choumicha.ma\"\n",
        "# html = requests.get(\"https://www.choumicha.ma/accueil-recettes/Page-14.html\")\n",
        "# soup = bs4.BeautifulSoup(html.text,'html.parser')\n",
        "# divs = soup.findAll(class_=\"span4\")\n",
        "\n",
        "def getWajabatUrl(url):\n",
        "    links = []\n",
        "    html = requests.get(url)\n",
        "    soup = bs4.BeautifulSoup(html.text, 'html.parser')\n",
        "    divs = soup.findAll(class_=\"span4\")\n",
        "    for div in divs:\n",
        "        link = div.find(\"a\").get(\"href\")\n",
        "        if link is not None:\n",
        "            links.append(urlBase+link)\n",
        "    return links\n"
      ],
      "metadata": {
        "id": "Xe3UcM7MnsWz"
      },
      "execution_count": null,
      "outputs": []
    },
    {
      "cell_type": "code",
      "source": [
        "wajabatUrls = []\n",
        "def saveWajabatUrl():\n",
        "  global wajabatUrls\n",
        "  for url in URLS:\n",
        "    wajabatUrls += getWajabatUrl(url)\n",
        "  with open(\"wajabatUrl.json\" ,\"w\") as f:\n",
        "    json.dump(wajabatUrls ,  f)"
      ],
      "metadata": {
        "colab": {
          "base_uri": "https://localhost:8080/"
        },
        "id": "gs9kmaSwn-Gq",
        "outputId": "f22f8ae7-c21c-457e-e665-6eb82fa076b2"
      },
      "execution_count": null,
      "outputs": [
        {
          "output_type": "execute_result",
          "data": {
            "text/plain": [
              "12"
            ]
          },
          "metadata": {},
          "execution_count": 29
        }
      ]
    },
    {
      "cell_type": "code",
      "source": [
        "# avec chwiya dyal l3ya9a\n",
        "\n",
        "from tqdm import tqdm\n",
        "import json\n",
        "wajabatUrls = []\n",
        "def saveWajabatUrl():\n",
        "    global wajabatUrls\n",
        "\n",
        "    with tqdm(total=len(URLS), desc=\"Processing URLs\") as pbar:\n",
        "        for url in URLS:\n",
        "            wajabatUrls += getWajabatUrl(url)\n",
        "            pbar.update(1)\n",
        "\n",
        "    with open(\"wajabatUrl.json\", \"w\") as f:\n",
        "        json.dump(wajabatUrls, f)\n"
      ],
      "metadata": {
        "id": "7A8ZOe7KpsTy"
      },
      "execution_count": null,
      "outputs": []
    },
    {
      "cell_type": "code",
      "source": [
        "saveWajabatUrl()"
      ],
      "metadata": {
        "colab": {
          "base_uri": "https://localhost:8080/"
        },
        "id": "5OdP9gwLp6yq",
        "outputId": "311b0191-fd3e-4c77-9a2c-1fee6deca42b"
      },
      "execution_count": null,
      "outputs": [
        {
          "output_type": "stream",
          "name": "stderr",
          "text": [
            "Processing URLs: 100%|██████████| 362/362 [09:25<00:00,  1.56s/it]\n"
          ]
        }
      ]
    },
    {
      "cell_type": "code",
      "source": [
        "len(wajabatUrls)"
      ],
      "metadata": {
        "colab": {
          "base_uri": "https://localhost:8080/"
        },
        "id": "4qWFJ-fosaxD",
        "outputId": "5b1fa2ec-b3a6-4d30-dee0-72c6168a0ee3"
      },
      "execution_count": null,
      "outputs": [
        {
          "output_type": "execute_result",
          "data": {
            "text/plain": [
              "3170"
            ]
          },
          "metadata": {},
          "execution_count": 37
        }
      ]
    },
    {
      "cell_type": "code",
      "source": [
        "!cp wajabatUrl.json /content/drive/MyDrive/abdo/chomicha_wajabatUrl.json"
      ],
      "metadata": {
        "id": "pfozOEgUssGg"
      },
      "execution_count": null,
      "outputs": []
    },
    {
      "cell_type": "code",
      "source": [
        "import requests\n",
        "import bs4\n",
        "\n",
        "urlBase = \"https://www.choumicha.ma\"\n",
        "\n",
        "\n",
        "# html = requests.get(\"https://www.choumicha.ma/accueil-recettes/Page-14.html\")\n",
        "# soup = bs4.BeautifulSoup(html.text,'html.parser')\n",
        "# divs = soup.findAll(class_=\"span4\")\n",
        "def getInfoOfWajba(url):\n",
        "    html = requests.get(url)\n",
        "    soup = bs4.BeautifulSoup(html.text, \"html.parser\")\n",
        "    data = {}\n",
        "    data[\"url\"] = url\n",
        "    data[\"title\"] = soup.find(\"h1\", class_=\"fn\").text\n",
        "    recipe_info = soup.find(\"ul\", class_=\"recipe-info\").findAll(\"li\")\n",
        "    lis = {}\n",
        "    for li in recipe_info:\n",
        "        if li.find(\"strong\") is not None  and  li.find(\"span\") is not None:\n",
        "            lis[str(li.find(\"strong\").text).split(\":\")[0]] = li.find(\"span\").text\n",
        "    data[\"recipe-info\"] = lis\n",
        "    ingredients = soup.findAll(class_=\"ingredient\")\n",
        "    ingredients = [li.find(\"span\" , class_=\"name\").text for li in ingredients]\n",
        "    data[\"ingredients\"] = ingredients\n",
        "    prepaDiv =  soup.find(class_=\"preparation\").findAll(\"li\")\n",
        "    preparation = []\n",
        "    for li in prepaDiv:\n",
        "        preparation.append(str(li.get_text()))\n",
        "    data[\"preparation\"] = preparation\n",
        "    data[\"categories\"] = [a.get_text() for a in soup.select(\".recette_divider li .row-fluid .row-fluid div a\") if\n",
        "                          a.get_text() != \"Autres\"]\n",
        "    data[\"mots cles\"] = [a.get_text() for a in soup.select(\".recette_divider li .clearfix span a\")]\n",
        "    return data"
      ],
      "metadata": {
        "id": "3xCXqg7es57x"
      },
      "execution_count": 1,
      "outputs": []
    },
    {
      "cell_type": "code",
      "source": [
        "import json\n",
        "with open(\"/content/wajabatUrl.json\" , \"r\") as f:\n",
        "  URLS = json.load(f)"
      ],
      "metadata": {
        "id": "5bwfPgpu-xnd"
      },
      "execution_count": 7,
      "outputs": []
    },
    {
      "cell_type": "code",
      "source": [
        "len(URLS)"
      ],
      "metadata": {
        "colab": {
          "base_uri": "https://localhost:8080/"
        },
        "id": "dFVPF0mx-17c",
        "outputId": "c68c0ce1-a96e-4a65-ce38-de8cf4cf12f6"
      },
      "execution_count": 8,
      "outputs": [
        {
          "output_type": "execute_result",
          "data": {
            "text/plain": [
              "3170"
            ]
          },
          "metadata": {},
          "execution_count": 8
        }
      ]
    },
    {
      "cell_type": "code",
      "source": [
        "wajabatInfo = []\n",
        "from tqdm import tqdm\n",
        "\n",
        "def siiiir(urls):\n",
        "    global wajabatInfo\n",
        "    with tqdm(total=len(urls), desc=\"Processing URLs\") as pbar:\n",
        "        for url in urls:\n",
        "            try:\n",
        "              wajabatInfo.append(getInfoOfWajba(url))\n",
        "            except Exception as e :\n",
        "              print(e)\n",
        "            pbar.update(1)\n",
        "\n",
        "\n"
      ],
      "metadata": {
        "id": "F62kTFQz8JGJ"
      },
      "execution_count": 10,
      "outputs": []
    },
    {
      "cell_type": "code",
      "source": [
        "siiiir(URLS[1558:])\n"
      ],
      "metadata": {
        "colab": {
          "base_uri": "https://localhost:8080/"
        },
        "id": "1S2Kehm6-6xN",
        "outputId": "b2c4b757-6fb4-4139-e35f-8a428de3d971"
      },
      "execution_count": 30,
      "outputs": [
        {
          "output_type": "stream",
          "name": "stderr",
          "text": [
            "Processing URLs: 100%|██████████| 1612/1612 [39:59<00:00,  1.49s/it]\n"
          ]
        }
      ]
    },
    {
      "cell_type": "code",
      "source": [
        "with open(\"choumichaWajabat.json\" , \"w\") as f:\n",
        "  json.dump(wajabatInfo , f)"
      ],
      "metadata": {
        "id": "Nvhe-lnCAJFb"
      },
      "execution_count": 31,
      "outputs": []
    },
    {
      "cell_type": "code",
      "source": [
        "!cp choumichaWajabat.json /content/drive/MyDrive/abdo/chomicha_data.json"
      ],
      "metadata": {
        "id": "e1OAZPHQGBHE"
      },
      "execution_count": 32,
      "outputs": []
    },
    {
      "cell_type": "code",
      "source": [
        "len(wajabatInfo)"
      ],
      "metadata": {
        "colab": {
          "base_uri": "https://localhost:8080/"
        },
        "id": "3pUoMbvCNXsc",
        "outputId": "762ef46d-abbd-479d-d575-c893e2e03bab"
      },
      "execution_count": 33,
      "outputs": [
        {
          "output_type": "execute_result",
          "data": {
            "text/plain": [
              "3171"
            ]
          },
          "metadata": {},
          "execution_count": 33
        }
      ]
    },
    {
      "cell_type": "code",
      "source": [
        "getInfoOfWajba(\"https://www.choumicha.ma/recette/1369-gratin-de-poulet-et-de-fruits-de-mer.html\")"
      ],
      "metadata": {
        "colab": {
          "base_uri": "https://localhost:8080/"
        },
        "id": "sGHvI-7CK44n",
        "outputId": "dfeebc73-ec37-49ab-8d95-09237a3652ad"
      },
      "execution_count": 29,
      "outputs": [
        {
          "output_type": "execute_result",
          "data": {
            "text/plain": [
              "{'url': 'https://www.choumicha.ma/recette/1369-gratin-de-poulet-et-de-fruits-de-mer.html',\n",
              " 'title': 'Gratin de poulet et de fruits de mer',\n",
              " 'recipe-info': {'Type': 'Cuisine du monde',\n",
              "  'Temps de cuisson': '10m',\n",
              "  'Temps total': '40m',\n",
              "  'Nombre de personnes': '4'},\n",
              " 'ingredients': ['250 g de blanc de poulet émincé',\n",
              "  '250 g de crevettes décortiquées',\n",
              "  '250 g de calamars coupés en morceaux',\n",
              "  \"1 gousse d'ail émincée\",\n",
              "  '1 c. à soupe de persil et de coriandre émincés',\n",
              "  '2 pincées de poivre',\n",
              "  '1/2 c. à café de piment fort (facultatif)',\n",
              "  'Sel',\n",
              "  '100 g de mozzarella râpée',\n",
              "  'Pour la sauce béchamel :',\n",
              "  '40 g de beurre',\n",
              "  '40 g de farine',\n",
              "  '45 cl de bouillon de crevettes (Cliquez sur lien dans la préparation)',\n",
              "  '2 pincées de poivre',\n",
              "  '2 pincées de piment fort',\n",
              "  'Sel',\n",
              "  'Pour gratiner :',\n",
              "  '80 g de mozzarella râpée'],\n",
              " 'preparation': ['Sauce béchamel au bouillon de crevettes :',\n",
              "  'Dans une casserole sur feu doux, faire fondre le beurre et le saupoudrer de farine, mélanger et cuire pendant 30 secondes.',\n",
              "  \"Mouiller avec le\\xa0bouillon de crevettes chaud et continuer la cuisson en remuant jusqu'à épaississement de la préparation.\",\n",
              "  'Retirer du feu et assaisonner la sauce béchamel avec le sel, le poivre et le piment fort.',\n",
              "  \"Dans une poêle sur feu moyen, faire fondre le beurre et y faire revenir le poulet et l'ail émincé pendant une minute environ.\",\n",
              "  'Rajouter les crevettes et continuer la cuisson sur feu vif pendant 30 secondes puis incorporer les calamars.',\n",
              "  'Continuer la cuisson pendant 30 secondes encore puis retirer du feu.',\n",
              "  'Assaisonner et ajouter les herbes, les 100 g de mozzarella râpée et la béchamel.',\n",
              "  'Dans un plat à gratin beurré, déposer la préparation au poulet et aux fruits de mer et saupoudrer de fromage râpé.',\n",
              "  'Gratiner le plat au four préchauffé à 190°C coté gril pendant 5 à 10 mn.',\n",
              "  'Servir le gratin très chaud dès sa sortie du four.',\n",
              "  'Bon à savoir : il faut servir le gratin dès sa sortie du four pour éviter que les fruits de mer dégorgent.'],\n",
              " 'categories': ['Cuisine du monde',\n",
              "  'Ramadan',\n",
              "  'Volailles',\n",
              "  'Gratins',\n",
              "  'Poissons et fruits de mer',\n",
              "  'Gratins'],\n",
              " 'mots cles': ['Gratin',\n",
              "  'poulet',\n",
              "  'fruits de mer',\n",
              "  'Fruit de mer',\n",
              "  'Poisson',\n",
              "  'Choumicha',\n",
              "  'Chhiwat Choumicha',\n",
              "  'Cuisine de Choumicha']}"
            ]
          },
          "metadata": {},
          "execution_count": 29
        }
      ]
    }
  ]
}